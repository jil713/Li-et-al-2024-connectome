{
 "cells": [
  {
   "cell_type": "code",
   "execution_count": null,
   "id": "24067e33",
   "metadata": {},
   "outputs": [],
   "source": [
    "import numpy as np\n",
    "import pandas as pd"
   ]
  },
  {
   "cell_type": "code",
   "execution_count": null,
   "id": "215bf268",
   "metadata": {
    "scrolled": true
   },
   "outputs": [],
   "source": [
    "#Import the excel sheet with raw connectivity data\n",
    "df = pd.read_excel (r\"D:\\Gordon Lab\\codex SEZ TPN project\\Paper preparation\\paper_final raw data\\connectivity\\ACh interneuron vs 2nd projection\\2nd projection_final.xlsx\", sheet_name='clustermap 783')\n",
    "print (df)"
   ]
  },
  {
   "cell_type": "code",
   "execution_count": null,
   "id": "7c11d13f",
   "metadata": {},
   "outputs": [],
   "source": [
    "#Clean the excel sheet\n",
    "df=df.set_index('type')\n",
    "y = df.index.tolist()\n",
    "df_a = df.fillna(0)"
   ]
  },
  {
   "cell_type": "code",
   "execution_count": null,
   "id": "28763321",
   "metadata": {},
   "outputs": [],
   "source": [
    "#Convert dataframe to arrays for preprocessing\n",
    "data_x = df_a.values"
   ]
  },
  {
   "cell_type": "code",
   "execution_count": null,
   "id": "8e33c209",
   "metadata": {},
   "outputs": [],
   "source": [
    "#Normalize and perform dimensional reduction on a sparse matrix converted from the data array\n",
    "from sklearn.preprocessing import normalize\n",
    "from sklearn.decomposition import TruncatedSVD\n",
    "from scipy.sparse import csr_matrix\n",
    "\n",
    "sparse_matrix = csr_matrix(data_x)\n",
    "sparse_matrix = normalize(sparse_matrix, axis=1, norm='l2')\n",
    "\n",
    "n_components = 10\n",
    "svd = TruncatedSVD(n_components=n_components, random_state=42)\n",
    "reduced_data = svd.fit_transform(sparse_matrix)\n",
    "print(svd.explained_variance_ratio_.sum())"
   ]
  },
  {
   "cell_type": "code",
   "execution_count": null,
   "id": "cb135bc8",
   "metadata": {},
   "outputs": [],
   "source": [
    "#Perform hierarchical clustering\n",
    "import matplotlib.pyplot as plt\n",
    "import scipy.cluster.hierarchy as sch\n",
    "from scipy.cluster.hierarchy import dendrogram, linkage, fcluster\n",
    "Z = linkage(reduced_data, method='ward', metric='euclidean')\n",
    "plt.figure(figsize=(20, 5))\n",
    "dendrogram_result=dendrogram(Z, leaf_rotation=90, leaf_font_size=10, labels=df_a.index)\n",
    "#plt.savefig(\"GRN vs 2ndTPN dendrogram.pdf\", format=\"pdf\", dpi=300)"
   ]
  },
  {
   "cell_type": "code",
   "execution_count": null,
   "id": "97065bcb",
   "metadata": {},
   "outputs": [],
   "source": [
    "#Reorder the excel sheet based on the dendrogram order for plotting\n",
    "dendrogram_order = dendrogram_result['leaves']\n",
    "data_reordered = df.iloc[dendrogram_order]\n",
    "data_reordered = data_reordered.fillna(0)\n",
    "#data_reordered.to_excel('Ordered GRN vs 2nd TPN clustering.xlsx')"
   ]
  },
  {
   "cell_type": "code",
   "execution_count": null,
   "id": "0a4b8599",
   "metadata": {},
   "outputs": [],
   "source": [
    "#Perform Silhouette test to determine the number of clusters\n",
    "from sklearn.cluster import AgglomerativeClustering\n",
    "from sklearn.metrics import silhouette_score\n",
    "cluster_range = range(2, 15)\n",
    "silhouette_scores = []\n",
    "\n",
    "for n_clusters in cluster_range:\n",
    "    clustering = AgglomerativeClustering(n_clusters=n_clusters, linkage = 'average', metric='correlation')\n",
    "    cluster_labels = clustering.fit_predict(reduced_data)\n",
    "\n",
    "    silhouette_avg = silhouette_score(reduced_data, cluster_labels)\n",
    "    silhouette_scores.append(silhouette_avg)\n",
    "\n",
    "plt.plot(cluster_range, silhouette_scores, marker='o')\n",
    "plt.xlabel(\"Number of Clusters\")\n",
    "plt.ylabel(\"Silhouette Score\")\n",
    "plt.title(\"Silhouette Score vs. Number of Clusters\")\n",
    "plt.grid(True)\n",
    "#plt.savefig('Silhouette score GRN vs 2nd TPN.pdf',dpi=300)"
   ]
  },
  {
   "cell_type": "code",
   "execution_count": null,
   "id": "a6d57f2a",
   "metadata": {},
   "outputs": [],
   "source": [
    "#Add cluster labels to a separate excel sheet and save it\n",
    "from sklearn.cluster import AgglomerativeClustering\n",
    "cluster = AgglomerativeClustering(n_clusters=10, metric='correlation', linkage='average')\n",
    "cluster_labels = cluster.fit_predict(reduced_data)\n",
    "df['Cluster'] = cluster_labels\n",
    "#df.to_excel('1st TPN raw sheet with clusterlabels.xlsx', index=True)"
   ]
  },
  {
   "cell_type": "code",
   "execution_count": null,
   "id": "bd8cc5a9",
   "metadata": {},
   "outputs": [],
   "source": [
    "#Store the reduced data in a dataframe and cleaned up for a scatter plot and distance matrix\n",
    "df_plot = pd.DataFrame(reduced_data)\n",
    "reduceddata_reordered = df_plot.iloc[dendrogram_order]"
   ]
  },
  {
   "cell_type": "code",
   "execution_count": null,
   "id": "a030eb76",
   "metadata": {},
   "outputs": [],
   "source": [
    "#Plot pairwise distance matrix\n",
    "from sklearn.metrics.pairwise import pairwise_distances\n",
    "import seaborn as sns\n",
    "corr_matrix = pairwise_distances(reduceddata_reordered, metric='euclidean')\n",
    "sns.heatmap(corr_matrix, cmap = 'Reds', square=True)\n",
    "#plt.savefig('GRN vs 2ndTPN correlation distance heatmap.pdf',dpi=300)"
   ]
  }
 ],
 "metadata": {
  "kernelspec": {
   "display_name": "Python 3 (ipykernel)",
   "language": "python",
   "name": "python3"
  },
  "language_info": {
   "codemirror_mode": {
    "name": "ipython",
    "version": 3
   },
   "file_extension": ".py",
   "mimetype": "text/x-python",
   "name": "python",
   "nbconvert_exporter": "python",
   "pygments_lexer": "ipython3",
   "version": "3.11.5"
  }
 },
 "nbformat": 4,
 "nbformat_minor": 5
}
