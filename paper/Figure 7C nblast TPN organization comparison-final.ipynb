{
 "cells": [
  {
   "cell_type": "code",
   "execution_count": 1,
   "id": "6ffa423d",
   "metadata": {},
   "outputs": [],
   "source": [
    "import navis\n",
    "import os"
   ]
  },
  {
   "cell_type": "code",
   "execution_count": 3,
   "id": "2c968243",
   "metadata": {},
   "outputs": [
    {
     "data": {
      "application/vnd.jupyter.widget-view+json": {
       "model_id": "",
       "version_major": 2,
       "version_minor": 0
      },
      "text/plain": [
       "Importing:   0%|          | 0/151 [00:00<?, ?it/s]"
      ]
     },
     "metadata": {},
     "output_type": "display_data"
    },
    {
     "data": {
      "application/vnd.jupyter.widget-view+json": {
       "model_id": "",
       "version_major": 2,
       "version_minor": 0
      },
      "text/plain": [
       "Importing:   0%|          | 0/3 [00:00<?, ?it/s]"
      ]
     },
     "metadata": {},
     "output_type": "display_data"
    },
    {
     "data": {
      "application/vnd.jupyter.widget-view+json": {
       "model_id": "",
       "version_major": 2,
       "version_minor": 0
      },
      "text/plain": [
       "Importing:   0%|          | 0/11 [00:00<?, ?it/s]"
      ]
     },
     "metadata": {},
     "output_type": "display_data"
    },
    {
     "data": {
      "application/vnd.jupyter.widget-view+json": {
       "model_id": "",
       "version_major": 2,
       "version_minor": 0
      },
      "text/plain": [
       "Importing:   0%|          | 0/8 [00:00<?, ?it/s]"
      ]
     },
     "metadata": {},
     "output_type": "display_data"
    },
    {
     "data": {
      "application/vnd.jupyter.widget-view+json": {
       "model_id": "",
       "version_major": 2,
       "version_minor": 0
      },
      "text/plain": [
       "Importing:   0%|          | 0/9 [00:00<?, ?it/s]"
      ]
     },
     "metadata": {},
     "output_type": "display_data"
    },
    {
     "data": {
      "application/vnd.jupyter.widget-view+json": {
       "model_id": "",
       "version_major": 2,
       "version_minor": 0
      },
      "text/plain": [
       "Importing:   0%|          | 0/3 [00:00<?, ?it/s]"
      ]
     },
     "metadata": {},
     "output_type": "display_data"
    },
    {
     "data": {
      "application/vnd.jupyter.widget-view+json": {
       "model_id": "",
       "version_major": 2,
       "version_minor": 0
      },
      "text/plain": [
       "Importing:   0%|          | 0/6 [00:00<?, ?it/s]"
      ]
     },
     "metadata": {},
     "output_type": "display_data"
    },
    {
     "data": {
      "application/vnd.jupyter.widget-view+json": {
       "model_id": "",
       "version_major": 2,
       "version_minor": 0
      },
      "text/plain": [
       "Importing:   0%|          | 0/6 [00:00<?, ?it/s]"
      ]
     },
     "metadata": {},
     "output_type": "display_data"
    },
    {
     "data": {
      "application/vnd.jupyter.widget-view+json": {
       "model_id": "",
       "version_major": 2,
       "version_minor": 0
      },
      "text/plain": [
       "Importing:   0%|          | 0/6 [00:00<?, ?it/s]"
      ]
     },
     "metadata": {},
     "output_type": "display_data"
    },
    {
     "data": {
      "application/vnd.jupyter.widget-view+json": {
       "model_id": "",
       "version_major": 2,
       "version_minor": 0
      },
      "text/plain": [
       "Importing:   0%|          | 0/7 [00:00<?, ?it/s]"
      ]
     },
     "metadata": {},
     "output_type": "display_data"
    },
    {
     "data": {
      "application/vnd.jupyter.widget-view+json": {
       "model_id": "",
       "version_major": 2,
       "version_minor": 0
      },
      "text/plain": [
       "Importing:   0%|          | 0/5 [00:00<?, ?it/s]"
      ]
     },
     "metadata": {},
     "output_type": "display_data"
    },
    {
     "data": {
      "application/vnd.jupyter.widget-view+json": {
       "model_id": "",
       "version_major": 2,
       "version_minor": 0
      },
      "text/plain": [
       "Importing:   0%|          | 0/7 [00:00<?, ?it/s]"
      ]
     },
     "metadata": {},
     "output_type": "display_data"
    },
    {
     "data": {
      "application/vnd.jupyter.widget-view+json": {
       "model_id": "",
       "version_major": 2,
       "version_minor": 0
      },
      "text/plain": [
       "Importing:   0%|          | 0/17 [00:00<?, ?it/s]"
      ]
     },
     "metadata": {},
     "output_type": "display_data"
    },
    {
     "data": {
      "application/vnd.jupyter.widget-view+json": {
       "model_id": "",
       "version_major": 2,
       "version_minor": 0
      },
      "text/plain": [
       "Importing:   0%|          | 0/6 [00:00<?, ?it/s]"
      ]
     },
     "metadata": {},
     "output_type": "display_data"
    },
    {
     "data": {
      "application/vnd.jupyter.widget-view+json": {
       "model_id": "",
       "version_major": 2,
       "version_minor": 0
      },
      "text/plain": [
       "Importing:   0%|          | 0/14 [00:00<?, ?it/s]"
      ]
     },
     "metadata": {},
     "output_type": "display_data"
    },
    {
     "data": {
      "application/vnd.jupyter.widget-view+json": {
       "model_id": "",
       "version_major": 2,
       "version_minor": 0
      },
      "text/plain": [
       "Importing:   0%|          | 0/9 [00:00<?, ?it/s]"
      ]
     },
     "metadata": {},
     "output_type": "display_data"
    },
    {
     "data": {
      "application/vnd.jupyter.widget-view+json": {
       "model_id": "",
       "version_major": 2,
       "version_minor": 0
      },
      "text/plain": [
       "Importing:   0%|          | 0/7 [00:00<?, ?it/s]"
      ]
     },
     "metadata": {},
     "output_type": "display_data"
    },
    {
     "data": {
      "application/vnd.jupyter.widget-view+json": {
       "model_id": "",
       "version_major": 2,
       "version_minor": 0
      },
      "text/plain": [
       "Importing:   0%|          | 0/7 [00:00<?, ?it/s]"
      ]
     },
     "metadata": {},
     "output_type": "display_data"
    },
    {
     "data": {
      "application/vnd.jupyter.widget-view+json": {
       "model_id": "",
       "version_major": 2,
       "version_minor": 0
      },
      "text/plain": [
       "Importing:   0%|          | 0/4 [00:00<?, ?it/s]"
      ]
     },
     "metadata": {},
     "output_type": "display_data"
    },
    {
     "data": {
      "application/vnd.jupyter.widget-view+json": {
       "model_id": "",
       "version_major": 2,
       "version_minor": 0
      },
      "text/plain": [
       "Importing:   0%|          | 0/4 [00:00<?, ?it/s]"
      ]
     },
     "metadata": {},
     "output_type": "display_data"
    },
    {
     "data": {
      "application/vnd.jupyter.widget-view+json": {
       "model_id": "",
       "version_major": 2,
       "version_minor": 0
      },
      "text/plain": [
       "Importing:   0%|          | 0/5 [00:00<?, ?it/s]"
      ]
     },
     "metadata": {},
     "output_type": "display_data"
    },
    {
     "data": {
      "application/vnd.jupyter.widget-view+json": {
       "model_id": "",
       "version_major": 2,
       "version_minor": 0
      },
      "text/plain": [
       "Importing:   0%|          | 0/5 [00:00<?, ?it/s]"
      ]
     },
     "metadata": {},
     "output_type": "display_data"
    },
    {
     "data": {
      "application/vnd.jupyter.widget-view+json": {
       "model_id": "",
       "version_major": 2,
       "version_minor": 0
      },
      "text/plain": [
       "Importing:   0%|          | 0/4 [00:00<?, ?it/s]"
      ]
     },
     "metadata": {},
     "output_type": "display_data"
    },
    {
     "data": {
      "application/vnd.jupyter.widget-view+json": {
       "model_id": "",
       "version_major": 2,
       "version_minor": 0
      },
      "text/plain": [
       "Importing:   0%|          | 0/3 [00:00<?, ?it/s]"
      ]
     },
     "metadata": {},
     "output_type": "display_data"
    },
    {
     "data": {
      "application/vnd.jupyter.widget-view+json": {
       "model_id": "",
       "version_major": 2,
       "version_minor": 0
      },
      "text/plain": [
       "Importing:   0%|          | 0/4 [00:00<?, ?it/s]"
      ]
     },
     "metadata": {},
     "output_type": "display_data"
    },
    {
     "data": {
      "application/vnd.jupyter.widget-view+json": {
       "model_id": "",
       "version_major": 2,
       "version_minor": 0
      },
      "text/plain": [
       "Importing:   0%|          | 0/10 [00:00<?, ?it/s]"
      ]
     },
     "metadata": {},
     "output_type": "display_data"
    },
    {
     "data": {
      "application/vnd.jupyter.widget-view+json": {
       "model_id": "",
       "version_major": 2,
       "version_minor": 0
      },
      "text/plain": [
       "Importing:   0%|          | 0/9 [00:00<?, ?it/s]"
      ]
     },
     "metadata": {},
     "output_type": "display_data"
    },
    {
     "data": {
      "application/vnd.jupyter.widget-view+json": {
       "model_id": "",
       "version_major": 2,
       "version_minor": 0
      },
      "text/plain": [
       "Importing:   0%|          | 0/8 [00:00<?, ?it/s]"
      ]
     },
     "metadata": {},
     "output_type": "display_data"
    },
    {
     "data": {
      "application/vnd.jupyter.widget-view+json": {
       "model_id": "",
       "version_major": 2,
       "version_minor": 0
      },
      "text/plain": [
       "Importing:   0%|          | 0/7 [00:00<?, ?it/s]"
      ]
     },
     "metadata": {},
     "output_type": "display_data"
    },
    {
     "data": {
      "application/vnd.jupyter.widget-view+json": {
       "model_id": "",
       "version_major": 2,
       "version_minor": 0
      },
      "text/plain": [
       "Importing:   0%|          | 0/5 [00:00<?, ?it/s]"
      ]
     },
     "metadata": {},
     "output_type": "display_data"
    },
    {
     "data": {
      "application/vnd.jupyter.widget-view+json": {
       "model_id": "",
       "version_major": 2,
       "version_minor": 0
      },
      "text/plain": [
       "Importing:   0%|          | 0/17 [00:00<?, ?it/s]"
      ]
     },
     "metadata": {},
     "output_type": "display_data"
    },
    {
     "data": {
      "application/vnd.jupyter.widget-view+json": {
       "model_id": "",
       "version_major": 2,
       "version_minor": 0
      },
      "text/plain": [
       "Importing:   0%|          | 0/15 [00:00<?, ?it/s]"
      ]
     },
     "metadata": {},
     "output_type": "display_data"
    },
    {
     "data": {
      "application/vnd.jupyter.widget-view+json": {
       "model_id": "",
       "version_major": 2,
       "version_minor": 0
      },
      "text/plain": [
       "Importing:   0%|          | 0/15 [00:00<?, ?it/s]"
      ]
     },
     "metadata": {},
     "output_type": "display_data"
    },
    {
     "data": {
      "application/vnd.jupyter.widget-view+json": {
       "model_id": "",
       "version_major": 2,
       "version_minor": 0
      },
      "text/plain": [
       "Importing:   0%|          | 0/11 [00:00<?, ?it/s]"
      ]
     },
     "metadata": {},
     "output_type": "display_data"
    },
    {
     "data": {
      "application/vnd.jupyter.widget-view+json": {
       "model_id": "",
       "version_major": 2,
       "version_minor": 0
      },
      "text/plain": [
       "Importing:   0%|          | 0/7 [00:00<?, ?it/s]"
      ]
     },
     "metadata": {},
     "output_type": "display_data"
    },
    {
     "data": {
      "application/vnd.jupyter.widget-view+json": {
       "model_id": "",
       "version_major": 2,
       "version_minor": 0
      },
      "text/plain": [
       "Importing:   0%|          | 0/9 [00:00<?, ?it/s]"
      ]
     },
     "metadata": {},
     "output_type": "display_data"
    },
    {
     "data": {
      "application/vnd.jupyter.widget-view+json": {
       "model_id": "",
       "version_major": 2,
       "version_minor": 0
      },
      "text/plain": [
       "Importing:   0%|          | 0/9 [00:00<?, ?it/s]"
      ]
     },
     "metadata": {},
     "output_type": "display_data"
    },
    {
     "data": {
      "application/vnd.jupyter.widget-view+json": {
       "model_id": "",
       "version_major": 2,
       "version_minor": 0
      },
      "text/plain": [
       "Importing:   0%|          | 0/7 [00:00<?, ?it/s]"
      ]
     },
     "metadata": {},
     "output_type": "display_data"
    }
   ],
   "source": [
    "#Import your zip files containing neuron skeletons (.swc) here, assign variables, and store them in a list called \"all_variables\"\n",
    "all_=navis.read_swc(r\"D:\\Gordon Lab\\codex SEZ TPN project\\Paper preparation\\paper_final raw data\\connectivity\\ACh interneuron vs 2nd projection\\swc for nblast analysis\\v783\\zips\\all.zip\",include_subdirs=True)\n",
    "GNG1054=navis.read_swc(r\"D:\\Gordon Lab\\codex SEZ TPN project\\Paper preparation\\paper_final raw data\\connectivity\\ACh interneuron vs 2nd projection\\swc for nblast analysis\\v783\\zips\\GNG.1054.zip\",include_subdirs=True)\n",
    "GNG1197=navis.read_swc(r\"D:\\Gordon Lab\\codex SEZ TPN project\\Paper preparation\\paper_final raw data\\connectivity\\ACh interneuron vs 2nd projection\\swc for nblast analysis\\v783\\zips\\GNG.1197.zip\",include_subdirs=True)\n",
    "GNG130=navis.read_swc(r\"D:\\Gordon Lab\\codex SEZ TPN project\\Paper preparation\\paper_final raw data\\connectivity\\ACh interneuron vs 2nd projection\\swc for nblast analysis\\v783\\zips\\GNG.130.zip\",include_subdirs=True)\n",
    "GNG156=navis.read_swc(r\"D:\\Gordon Lab\\codex SEZ TPN project\\Paper preparation\\paper_final raw data\\connectivity\\ACh interneuron vs 2nd projection\\swc for nblast analysis\\v783\\zips\\GNG.156.zip\",include_subdirs=True)\n",
    "GNG2331=navis.read_swc(r\"D:\\Gordon Lab\\codex SEZ TPN project\\Paper preparation\\paper_final raw data\\connectivity\\ACh interneuron vs 2nd projection\\swc for nblast analysis\\v783\\zips\\GNG.2331.zip\",include_subdirs=True)\n",
    "GNG285=navis.read_swc(r\"D:\\Gordon Lab\\codex SEZ TPN project\\Paper preparation\\paper_final raw data\\connectivity\\ACh interneuron vs 2nd projection\\swc for nblast analysis\\v783\\zips\\GNG.285.zip\",include_subdirs=True)\n",
    "GNG355=navis.read_swc(r\"D:\\Gordon Lab\\codex SEZ TPN project\\Paper preparation\\paper_final raw data\\connectivity\\ACh interneuron vs 2nd projection\\swc for nblast analysis\\v783\\zips\\GNG.355.zip\",include_subdirs=True)\n",
    "GNG427=navis.read_swc(r\"D:\\Gordon Lab\\codex SEZ TPN project\\Paper preparation\\paper_final raw data\\connectivity\\ACh interneuron vs 2nd projection\\swc for nblast analysis\\v783\\zips\\GNG.427.zip\",include_subdirs=True)\n",
    "GNG435=navis.read_swc(r\"D:\\Gordon Lab\\codex SEZ TPN project\\Paper preparation\\paper_final raw data\\connectivity\\ACh interneuron vs 2nd projection\\swc for nblast analysis\\v783\\zips\\GNG.435.zip\",include_subdirs=True)\n",
    "GNG605=navis.read_swc(r\"D:\\Gordon Lab\\codex SEZ TPN project\\Paper preparation\\paper_final raw data\\connectivity\\ACh interneuron vs 2nd projection\\swc for nblast analysis\\v783\\zips\\GNG.605.zip\",include_subdirs=True)\n",
    "GNG613=navis.read_swc(r\"D:\\Gordon Lab\\codex SEZ TPN project\\Paper preparation\\paper_final raw data\\connectivity\\ACh interneuron vs 2nd projection\\swc for nblast analysis\\v783\\zips\\GNG.613.zip\",include_subdirs=True)\n",
    "GNG670=navis.read_swc(r\"D:\\Gordon Lab\\codex SEZ TPN project\\Paper preparation\\paper_final raw data\\connectivity\\ACh interneuron vs 2nd projection\\swc for nblast analysis\\v783\\zips\\GNG.670.zip\",include_subdirs=True)\n",
    "GNG774=navis.read_swc(r\"D:\\Gordon Lab\\codex SEZ TPN project\\Paper preparation\\paper_final raw data\\connectivity\\ACh interneuron vs 2nd projection\\swc for nblast analysis\\v783\\zips\\GNG.774.zip\",include_subdirs=True)\n",
    "GNG781=navis.read_swc(r\"D:\\Gordon Lab\\codex SEZ TPN project\\Paper preparation\\paper_final raw data\\connectivity\\ACh interneuron vs 2nd projection\\swc for nblast analysis\\v783\\zips\\GNG.781.zip\",include_subdirs=True)\n",
    "GNG825=navis.read_swc(r\"D:\\Gordon Lab\\codex SEZ TPN project\\Paper preparation\\paper_final raw data\\connectivity\\ACh interneuron vs 2nd projection\\swc for nblast analysis\\v783\\zips\\GNG.825.zip\",include_subdirs=True)\n",
    "GNG947=navis.read_swc(r\"D:\\Gordon Lab\\codex SEZ TPN project\\Paper preparation\\paper_final raw data\\connectivity\\ACh interneuron vs 2nd projection\\swc for nblast analysis\\v783\\zips\\GNG.947.zip\",include_subdirs=True)\n",
    "GNG989=navis.read_swc(r\"D:\\Gordon Lab\\codex SEZ TPN project\\Paper preparation\\paper_final raw data\\connectivity\\ACh interneuron vs 2nd projection\\swc for nblast analysis\\v783\\zips\\GNG.989.zip\",include_subdirs=True)\n",
    "GNGPRW19=navis.read_swc(r\"D:\\Gordon Lab\\codex SEZ TPN project\\Paper preparation\\paper_final raw data\\connectivity\\ACh interneuron vs 2nd projection\\swc for nblast analysis\\v783\\zips\\GNG.PRW.19.zip\",include_subdirs=True)\n",
    "GNGPRW26=navis.read_swc(r\"D:\\Gordon Lab\\codex SEZ TPN project\\Paper preparation\\paper_final raw data\\connectivity\\ACh interneuron vs 2nd projection\\swc for nblast analysis\\v783\\zips\\GNG.PRW.26.zip\",include_subdirs=True)\n",
    "PRW126=navis.read_swc(r\"D:\\Gordon Lab\\codex SEZ TPN project\\Paper preparation\\paper_final raw data\\connectivity\\ACh interneuron vs 2nd projection\\swc for nblast analysis\\v783\\zips\\PRW.126.zip\",include_subdirs=True)\n",
    "PRW139=navis.read_swc(r\"D:\\Gordon Lab\\codex SEZ TPN project\\Paper preparation\\paper_final raw data\\connectivity\\ACh interneuron vs 2nd projection\\swc for nblast analysis\\v783\\zips\\PRW.139.zip\",include_subdirs=True)\n",
    "PRW148=navis.read_swc(r\"D:\\Gordon Lab\\codex SEZ TPN project\\Paper preparation\\paper_final raw data\\connectivity\\ACh interneuron vs 2nd projection\\swc for nblast analysis\\v783\\zips\\PRW.148.zip\",include_subdirs=True)\n",
    "PRW159=navis.read_swc(r\"D:\\Gordon Lab\\codex SEZ TPN project\\Paper preparation\\paper_final raw data\\connectivity\\ACh interneuron vs 2nd projection\\swc for nblast analysis\\v783\\zips\\PRW.159.zip\",include_subdirs=True)\n",
    "PRW180=navis.read_swc(r\"D:\\Gordon Lab\\codex SEZ TPN project\\Paper preparation\\paper_final raw data\\connectivity\\ACh interneuron vs 2nd projection\\swc for nblast analysis\\v783\\zips\\PRW.180.zip\",include_subdirs=True)\n",
    "PRW29=navis.read_swc(r\"D:\\Gordon Lab\\codex SEZ TPN project\\Paper preparation\\paper_final raw data\\connectivity\\ACh interneuron vs 2nd projection\\swc for nblast analysis\\v783\\zips\\PRW.29.zip\",include_subdirs=True)\n",
    "PRW31=navis.read_swc(r\"D:\\Gordon Lab\\codex SEZ TPN project\\Paper preparation\\paper_final raw data\\connectivity\\ACh interneuron vs 2nd projection\\swc for nblast analysis\\v783\\zips\\PRW.31.zip\",include_subdirs=True)\n",
    "PRW34=navis.read_swc(r\"D:\\Gordon Lab\\codex SEZ TPN project\\Paper preparation\\paper_final raw data\\connectivity\\ACh interneuron vs 2nd projection\\swc for nblast analysis\\v783\\zips\\PRW.34.zip\",include_subdirs=True)\n",
    "PRW42=navis.read_swc(r\"D:\\Gordon Lab\\codex SEZ TPN project\\Paper preparation\\paper_final raw data\\connectivity\\ACh interneuron vs 2nd projection\\swc for nblast analysis\\v783\\zips\\PRW.42.zip\",include_subdirs=True)\n",
    "PRW45=navis.read_swc(r\"D:\\Gordon Lab\\codex SEZ TPN project\\Paper preparation\\paper_final raw data\\connectivity\\ACh interneuron vs 2nd projection\\swc for nblast analysis\\v783\\zips\\PRW.45.zip\",include_subdirs=True)\n",
    "PRW50=navis.read_swc(r\"D:\\Gordon Lab\\codex SEZ TPN project\\Paper preparation\\paper_final raw data\\connectivity\\ACh interneuron vs 2nd projection\\swc for nblast analysis\\v783\\zips\\PRW.50.zip\",include_subdirs=True)\n",
    "PRW52=navis.read_swc(r\"D:\\Gordon Lab\\codex SEZ TPN project\\Paper preparation\\paper_final raw data\\connectivity\\ACh interneuron vs 2nd projection\\swc for nblast analysis\\v783\\zips\\PRW.52.zip\",include_subdirs=True)\n",
    "PRW56=navis.read_swc(r\"D:\\Gordon Lab\\codex SEZ TPN project\\Paper preparation\\paper_final raw data\\connectivity\\ACh interneuron vs 2nd projection\\swc for nblast analysis\\v783\\zips\\PRW.56.zip\",include_subdirs=True)\n",
    "PRW76=navis.read_swc(r\"D:\\Gordon Lab\\codex SEZ TPN project\\Paper preparation\\paper_final raw data\\connectivity\\ACh interneuron vs 2nd projection\\swc for nblast analysis\\v783\\zips\\PRW.76.zip\",include_subdirs=True)\n",
    "PRW80=navis.read_swc(r\"D:\\Gordon Lab\\codex SEZ TPN project\\Paper preparation\\paper_final raw data\\connectivity\\ACh interneuron vs 2nd projection\\swc for nblast analysis\\v783\\zips\\PRW.80.zip\",include_subdirs=True)\n",
    "PRW83=navis.read_swc(r\"D:\\Gordon Lab\\codex SEZ TPN project\\Paper preparation\\paper_final raw data\\connectivity\\ACh interneuron vs 2nd projection\\swc for nblast analysis\\v783\\zips\\PRW.83.zip\",include_subdirs=True)\n",
    "PRW85=navis.read_swc(r\"D:\\Gordon Lab\\codex SEZ TPN project\\Paper preparation\\paper_final raw data\\connectivity\\ACh interneuron vs 2nd projection\\swc for nblast analysis\\v783\\zips\\PRW.85.zip\",include_subdirs=True)\n",
    "PRWGNG2=navis.read_swc(r\"D:\\Gordon Lab\\codex SEZ TPN project\\Paper preparation\\paper_final raw data\\connectivity\\ACh interneuron vs 2nd projection\\swc for nblast analysis\\v783\\zips\\PRW.GNG.2.zip\",include_subdirs=True)\n",
    "\n",
    "all_variables = [GNG1054,\n",
    "GNG1197,\n",
    "GNG130,\n",
    "GNG156,\n",
    "GNG2331,\n",
    "GNG285,\n",
    "GNG355,\n",
    "GNG427,\n",
    "GNG435,\n",
    "GNG605,\n",
    "GNG613,\n",
    "GNG670,\n",
    "GNG774,\n",
    "GNG781,\n",
    "GNG825,\n",
    "GNG947,\n",
    "GNG989,\n",
    "GNGPRW19,\n",
    "GNGPRW26,\n",
    "PRW126,\n",
    "PRW139,\n",
    "PRW148,\n",
    "PRW159,\n",
    "PRW180,\n",
    "PRW29,\n",
    "PRW31,\n",
    "PRW34,\n",
    "PRW42,\n",
    "PRW45,\n",
    "PRW50,\n",
    "PRW52,\n",
    "PRW56,\n",
    "PRW76,\n",
    "PRW80,\n",
    "PRW83,\n",
    "PRW85,\n",
    "PRWGNG2\n",
    "]"
   ]
  },
  {
   "cell_type": "code",
   "execution_count": null,
   "id": "ed672e53",
   "metadata": {},
   "outputs": [],
   "source": [
    "import numpy as np\n",
    "\n",
    "variables_names = []\n",
    "for variables in all_variables:\n",
    "    variables_labels = variables.name.tolist()\n",
    "    variables_names.append(variables_labels)\n",
    "    \n",
    "variables_names"
   ]
  },
  {
   "cell_type": "code",
   "execution_count": 30,
   "id": "4c61415e",
   "metadata": {},
   "outputs": [],
   "source": [
    "#Randomize skeletons picked from the \"all_\" variable which contains all the TPN skeletons \n",
    "import random\n",
    "\n",
    "random.seed(50) #Change the seed to generate different randomized skeletons picked from \"all_\"\n",
    "random_list=[]\n",
    "\n",
    "for neuron in all_variables:\n",
    "    random_numbers = [random.sample(range(151),len(neuron))]\n",
    "    random_fromall = all_[random_numbers]\n",
    "    random_list.append(random_fromall)"
   ]
  },
  {
   "cell_type": "code",
   "execution_count": null,
   "id": "86ffd6a0",
   "metadata": {},
   "outputs": [],
   "source": [
    "#Convert the list to a pandas DataFrame\n",
    "df = pd.DataFrame(random_list[1:])\n",
    "\n",
    "#Save the randomized DataFrame to an excel file\n",
    "df.to_excel('random5_list.xlsx', index=False)"
   ]
  },
  {
   "cell_type": "code",
   "execution_count": null,
   "id": "6da16411",
   "metadata": {},
   "outputs": [],
   "source": [
    "#Calculate the all-by-all nblast scores within each set of TPNs that are postsynaptic to a cholinergic LN \n",
    "\n",
    "import pandas as pd\n",
    "import numpy as np\n",
    "\n",
    "df_actual = pd.DataFrame()\n",
    "\n",
    "for cells in all_variables:\n",
    "    nl_um = cells / 1000\n",
    "    dps = navis.make_dotprops (nl_um, k=5, resample = False)\n",
    "    aba = navis.nblast_allbyall(dps, progress = False)\n",
    "    aba_mean = (aba+aba.T) / 2\n",
    "    df_flat = pd.DataFrame(np.reshape(aba_mean.to_numpy(), (1,-1)))\n",
    "    df = df_flat.transpose()\n",
    "    df_filtered = df.drop_duplicates()\n",
    "    df_actual = pd.concat([df_actual, df_filtered], axis=1)"
   ]
  },
  {
   "cell_type": "code",
   "execution_count": null,
   "id": "a1076b6e",
   "metadata": {},
   "outputs": [],
   "source": [
    "df_actual.to_excel('actual_nblast.xlsx', index = False)"
   ]
  },
  {
   "cell_type": "code",
   "execution_count": 31,
   "id": "a1e52381",
   "metadata": {},
   "outputs": [
    {
     "data": {
      "application/vnd.jupyter.widget-view+json": {
       "model_id": "",
       "version_major": 2,
       "version_minor": 0
      },
      "text/plain": [
       "Dividing:   0%|          | 0/3 [00:00<?, ?it/s]"
      ]
     },
     "metadata": {},
     "output_type": "display_data"
    },
    {
     "data": {
      "application/vnd.jupyter.widget-view+json": {
       "model_id": "",
       "version_major": 2,
       "version_minor": 0
      },
      "text/plain": [
       "Dotprops:   0%|          | 0/3 [00:00<?, ?it/s]"
      ]
     },
     "metadata": {},
     "output_type": "display_data"
    },
    {
     "data": {
      "application/vnd.jupyter.widget-view+json": {
       "model_id": "",
       "version_major": 2,
       "version_minor": 0
      },
      "text/plain": [
       "Dividing:   0%|          | 0/11 [00:00<?, ?it/s]"
      ]
     },
     "metadata": {},
     "output_type": "display_data"
    },
    {
     "data": {
      "application/vnd.jupyter.widget-view+json": {
       "model_id": "",
       "version_major": 2,
       "version_minor": 0
      },
      "text/plain": [
       "Dotprops:   0%|          | 0/11 [00:00<?, ?it/s]"
      ]
     },
     "metadata": {},
     "output_type": "display_data"
    },
    {
     "data": {
      "application/vnd.jupyter.widget-view+json": {
       "model_id": "",
       "version_major": 2,
       "version_minor": 0
      },
      "text/plain": [
       "Dividing:   0%|          | 0/8 [00:00<?, ?it/s]"
      ]
     },
     "metadata": {},
     "output_type": "display_data"
    },
    {
     "data": {
      "application/vnd.jupyter.widget-view+json": {
       "model_id": "",
       "version_major": 2,
       "version_minor": 0
      },
      "text/plain": [
       "Dotprops:   0%|          | 0/8 [00:00<?, ?it/s]"
      ]
     },
     "metadata": {},
     "output_type": "display_data"
    },
    {
     "data": {
      "application/vnd.jupyter.widget-view+json": {
       "model_id": "",
       "version_major": 2,
       "version_minor": 0
      },
      "text/plain": [
       "Dividing:   0%|          | 0/9 [00:00<?, ?it/s]"
      ]
     },
     "metadata": {},
     "output_type": "display_data"
    },
    {
     "data": {
      "application/vnd.jupyter.widget-view+json": {
       "model_id": "",
       "version_major": 2,
       "version_minor": 0
      },
      "text/plain": [
       "Dotprops:   0%|          | 0/9 [00:00<?, ?it/s]"
      ]
     },
     "metadata": {},
     "output_type": "display_data"
    },
    {
     "data": {
      "application/vnd.jupyter.widget-view+json": {
       "model_id": "",
       "version_major": 2,
       "version_minor": 0
      },
      "text/plain": [
       "Dividing:   0%|          | 0/3 [00:00<?, ?it/s]"
      ]
     },
     "metadata": {},
     "output_type": "display_data"
    },
    {
     "data": {
      "application/vnd.jupyter.widget-view+json": {
       "model_id": "",
       "version_major": 2,
       "version_minor": 0
      },
      "text/plain": [
       "Dotprops:   0%|          | 0/3 [00:00<?, ?it/s]"
      ]
     },
     "metadata": {},
     "output_type": "display_data"
    },
    {
     "data": {
      "application/vnd.jupyter.widget-view+json": {
       "model_id": "",
       "version_major": 2,
       "version_minor": 0
      },
      "text/plain": [
       "Dividing:   0%|          | 0/6 [00:00<?, ?it/s]"
      ]
     },
     "metadata": {},
     "output_type": "display_data"
    },
    {
     "data": {
      "application/vnd.jupyter.widget-view+json": {
       "model_id": "",
       "version_major": 2,
       "version_minor": 0
      },
      "text/plain": [
       "Dotprops:   0%|          | 0/6 [00:00<?, ?it/s]"
      ]
     },
     "metadata": {},
     "output_type": "display_data"
    },
    {
     "data": {
      "application/vnd.jupyter.widget-view+json": {
       "model_id": "",
       "version_major": 2,
       "version_minor": 0
      },
      "text/plain": [
       "Dividing:   0%|          | 0/6 [00:00<?, ?it/s]"
      ]
     },
     "metadata": {},
     "output_type": "display_data"
    },
    {
     "data": {
      "application/vnd.jupyter.widget-view+json": {
       "model_id": "",
       "version_major": 2,
       "version_minor": 0
      },
      "text/plain": [
       "Dotprops:   0%|          | 0/6 [00:00<?, ?it/s]"
      ]
     },
     "metadata": {},
     "output_type": "display_data"
    },
    {
     "data": {
      "application/vnd.jupyter.widget-view+json": {
       "model_id": "",
       "version_major": 2,
       "version_minor": 0
      },
      "text/plain": [
       "Dividing:   0%|          | 0/6 [00:00<?, ?it/s]"
      ]
     },
     "metadata": {},
     "output_type": "display_data"
    },
    {
     "data": {
      "application/vnd.jupyter.widget-view+json": {
       "model_id": "",
       "version_major": 2,
       "version_minor": 0
      },
      "text/plain": [
       "Dotprops:   0%|          | 0/6 [00:00<?, ?it/s]"
      ]
     },
     "metadata": {},
     "output_type": "display_data"
    },
    {
     "data": {
      "application/vnd.jupyter.widget-view+json": {
       "model_id": "",
       "version_major": 2,
       "version_minor": 0
      },
      "text/plain": [
       "Dividing:   0%|          | 0/7 [00:00<?, ?it/s]"
      ]
     },
     "metadata": {},
     "output_type": "display_data"
    },
    {
     "data": {
      "application/vnd.jupyter.widget-view+json": {
       "model_id": "",
       "version_major": 2,
       "version_minor": 0
      },
      "text/plain": [
       "Dotprops:   0%|          | 0/7 [00:00<?, ?it/s]"
      ]
     },
     "metadata": {},
     "output_type": "display_data"
    },
    {
     "data": {
      "application/vnd.jupyter.widget-view+json": {
       "model_id": "",
       "version_major": 2,
       "version_minor": 0
      },
      "text/plain": [
       "Dividing:   0%|          | 0/5 [00:00<?, ?it/s]"
      ]
     },
     "metadata": {},
     "output_type": "display_data"
    },
    {
     "data": {
      "application/vnd.jupyter.widget-view+json": {
       "model_id": "",
       "version_major": 2,
       "version_minor": 0
      },
      "text/plain": [
       "Dotprops:   0%|          | 0/5 [00:00<?, ?it/s]"
      ]
     },
     "metadata": {},
     "output_type": "display_data"
    },
    {
     "data": {
      "application/vnd.jupyter.widget-view+json": {
       "model_id": "",
       "version_major": 2,
       "version_minor": 0
      },
      "text/plain": [
       "Dividing:   0%|          | 0/7 [00:00<?, ?it/s]"
      ]
     },
     "metadata": {},
     "output_type": "display_data"
    },
    {
     "data": {
      "application/vnd.jupyter.widget-view+json": {
       "model_id": "",
       "version_major": 2,
       "version_minor": 0
      },
      "text/plain": [
       "Dotprops:   0%|          | 0/7 [00:00<?, ?it/s]"
      ]
     },
     "metadata": {},
     "output_type": "display_data"
    },
    {
     "data": {
      "application/vnd.jupyter.widget-view+json": {
       "model_id": "",
       "version_major": 2,
       "version_minor": 0
      },
      "text/plain": [
       "Dividing:   0%|          | 0/17 [00:00<?, ?it/s]"
      ]
     },
     "metadata": {},
     "output_type": "display_data"
    },
    {
     "data": {
      "application/vnd.jupyter.widget-view+json": {
       "model_id": "",
       "version_major": 2,
       "version_minor": 0
      },
      "text/plain": [
       "Dotprops:   0%|          | 0/17 [00:00<?, ?it/s]"
      ]
     },
     "metadata": {},
     "output_type": "display_data"
    },
    {
     "data": {
      "application/vnd.jupyter.widget-view+json": {
       "model_id": "",
       "version_major": 2,
       "version_minor": 0
      },
      "text/plain": [
       "Dividing:   0%|          | 0/6 [00:00<?, ?it/s]"
      ]
     },
     "metadata": {},
     "output_type": "display_data"
    },
    {
     "data": {
      "application/vnd.jupyter.widget-view+json": {
       "model_id": "",
       "version_major": 2,
       "version_minor": 0
      },
      "text/plain": [
       "Dotprops:   0%|          | 0/6 [00:00<?, ?it/s]"
      ]
     },
     "metadata": {},
     "output_type": "display_data"
    },
    {
     "data": {
      "application/vnd.jupyter.widget-view+json": {
       "model_id": "",
       "version_major": 2,
       "version_minor": 0
      },
      "text/plain": [
       "Dividing:   0%|          | 0/14 [00:00<?, ?it/s]"
      ]
     },
     "metadata": {},
     "output_type": "display_data"
    },
    {
     "data": {
      "application/vnd.jupyter.widget-view+json": {
       "model_id": "",
       "version_major": 2,
       "version_minor": 0
      },
      "text/plain": [
       "Dotprops:   0%|          | 0/14 [00:00<?, ?it/s]"
      ]
     },
     "metadata": {},
     "output_type": "display_data"
    },
    {
     "data": {
      "application/vnd.jupyter.widget-view+json": {
       "model_id": "",
       "version_major": 2,
       "version_minor": 0
      },
      "text/plain": [
       "Dividing:   0%|          | 0/9 [00:00<?, ?it/s]"
      ]
     },
     "metadata": {},
     "output_type": "display_data"
    },
    {
     "data": {
      "application/vnd.jupyter.widget-view+json": {
       "model_id": "",
       "version_major": 2,
       "version_minor": 0
      },
      "text/plain": [
       "Dotprops:   0%|          | 0/9 [00:00<?, ?it/s]"
      ]
     },
     "metadata": {},
     "output_type": "display_data"
    },
    {
     "data": {
      "application/vnd.jupyter.widget-view+json": {
       "model_id": "",
       "version_major": 2,
       "version_minor": 0
      },
      "text/plain": [
       "Dividing:   0%|          | 0/7 [00:00<?, ?it/s]"
      ]
     },
     "metadata": {},
     "output_type": "display_data"
    },
    {
     "data": {
      "application/vnd.jupyter.widget-view+json": {
       "model_id": "",
       "version_major": 2,
       "version_minor": 0
      },
      "text/plain": [
       "Dotprops:   0%|          | 0/7 [00:00<?, ?it/s]"
      ]
     },
     "metadata": {},
     "output_type": "display_data"
    },
    {
     "data": {
      "application/vnd.jupyter.widget-view+json": {
       "model_id": "",
       "version_major": 2,
       "version_minor": 0
      },
      "text/plain": [
       "Dividing:   0%|          | 0/7 [00:00<?, ?it/s]"
      ]
     },
     "metadata": {},
     "output_type": "display_data"
    },
    {
     "data": {
      "application/vnd.jupyter.widget-view+json": {
       "model_id": "",
       "version_major": 2,
       "version_minor": 0
      },
      "text/plain": [
       "Dotprops:   0%|          | 0/7 [00:00<?, ?it/s]"
      ]
     },
     "metadata": {},
     "output_type": "display_data"
    },
    {
     "data": {
      "application/vnd.jupyter.widget-view+json": {
       "model_id": "",
       "version_major": 2,
       "version_minor": 0
      },
      "text/plain": [
       "Dividing:   0%|          | 0/4 [00:00<?, ?it/s]"
      ]
     },
     "metadata": {},
     "output_type": "display_data"
    },
    {
     "data": {
      "application/vnd.jupyter.widget-view+json": {
       "model_id": "",
       "version_major": 2,
       "version_minor": 0
      },
      "text/plain": [
       "Dotprops:   0%|          | 0/4 [00:00<?, ?it/s]"
      ]
     },
     "metadata": {},
     "output_type": "display_data"
    },
    {
     "data": {
      "application/vnd.jupyter.widget-view+json": {
       "model_id": "",
       "version_major": 2,
       "version_minor": 0
      },
      "text/plain": [
       "Dividing:   0%|          | 0/4 [00:00<?, ?it/s]"
      ]
     },
     "metadata": {},
     "output_type": "display_data"
    },
    {
     "data": {
      "application/vnd.jupyter.widget-view+json": {
       "model_id": "",
       "version_major": 2,
       "version_minor": 0
      },
      "text/plain": [
       "Dotprops:   0%|          | 0/4 [00:00<?, ?it/s]"
      ]
     },
     "metadata": {},
     "output_type": "display_data"
    },
    {
     "data": {
      "application/vnd.jupyter.widget-view+json": {
       "model_id": "",
       "version_major": 2,
       "version_minor": 0
      },
      "text/plain": [
       "Dividing:   0%|          | 0/5 [00:00<?, ?it/s]"
      ]
     },
     "metadata": {},
     "output_type": "display_data"
    },
    {
     "data": {
      "application/vnd.jupyter.widget-view+json": {
       "model_id": "",
       "version_major": 2,
       "version_minor": 0
      },
      "text/plain": [
       "Dotprops:   0%|          | 0/5 [00:00<?, ?it/s]"
      ]
     },
     "metadata": {},
     "output_type": "display_data"
    },
    {
     "data": {
      "application/vnd.jupyter.widget-view+json": {
       "model_id": "",
       "version_major": 2,
       "version_minor": 0
      },
      "text/plain": [
       "Dividing:   0%|          | 0/5 [00:00<?, ?it/s]"
      ]
     },
     "metadata": {},
     "output_type": "display_data"
    },
    {
     "data": {
      "application/vnd.jupyter.widget-view+json": {
       "model_id": "",
       "version_major": 2,
       "version_minor": 0
      },
      "text/plain": [
       "Dotprops:   0%|          | 0/5 [00:00<?, ?it/s]"
      ]
     },
     "metadata": {},
     "output_type": "display_data"
    },
    {
     "data": {
      "application/vnd.jupyter.widget-view+json": {
       "model_id": "",
       "version_major": 2,
       "version_minor": 0
      },
      "text/plain": [
       "Dividing:   0%|          | 0/4 [00:00<?, ?it/s]"
      ]
     },
     "metadata": {},
     "output_type": "display_data"
    },
    {
     "data": {
      "application/vnd.jupyter.widget-view+json": {
       "model_id": "",
       "version_major": 2,
       "version_minor": 0
      },
      "text/plain": [
       "Dotprops:   0%|          | 0/4 [00:00<?, ?it/s]"
      ]
     },
     "metadata": {},
     "output_type": "display_data"
    },
    {
     "data": {
      "application/vnd.jupyter.widget-view+json": {
       "model_id": "",
       "version_major": 2,
       "version_minor": 0
      },
      "text/plain": [
       "Dividing:   0%|          | 0/3 [00:00<?, ?it/s]"
      ]
     },
     "metadata": {},
     "output_type": "display_data"
    },
    {
     "data": {
      "application/vnd.jupyter.widget-view+json": {
       "model_id": "",
       "version_major": 2,
       "version_minor": 0
      },
      "text/plain": [
       "Dotprops:   0%|          | 0/3 [00:00<?, ?it/s]"
      ]
     },
     "metadata": {},
     "output_type": "display_data"
    },
    {
     "data": {
      "application/vnd.jupyter.widget-view+json": {
       "model_id": "",
       "version_major": 2,
       "version_minor": 0
      },
      "text/plain": [
       "Dividing:   0%|          | 0/4 [00:00<?, ?it/s]"
      ]
     },
     "metadata": {},
     "output_type": "display_data"
    },
    {
     "data": {
      "application/vnd.jupyter.widget-view+json": {
       "model_id": "",
       "version_major": 2,
       "version_minor": 0
      },
      "text/plain": [
       "Dotprops:   0%|          | 0/4 [00:00<?, ?it/s]"
      ]
     },
     "metadata": {},
     "output_type": "display_data"
    },
    {
     "data": {
      "application/vnd.jupyter.widget-view+json": {
       "model_id": "",
       "version_major": 2,
       "version_minor": 0
      },
      "text/plain": [
       "Dividing:   0%|          | 0/10 [00:00<?, ?it/s]"
      ]
     },
     "metadata": {},
     "output_type": "display_data"
    },
    {
     "data": {
      "application/vnd.jupyter.widget-view+json": {
       "model_id": "",
       "version_major": 2,
       "version_minor": 0
      },
      "text/plain": [
       "Dotprops:   0%|          | 0/10 [00:00<?, ?it/s]"
      ]
     },
     "metadata": {},
     "output_type": "display_data"
    },
    {
     "data": {
      "application/vnd.jupyter.widget-view+json": {
       "model_id": "",
       "version_major": 2,
       "version_minor": 0
      },
      "text/plain": [
       "Dividing:   0%|          | 0/9 [00:00<?, ?it/s]"
      ]
     },
     "metadata": {},
     "output_type": "display_data"
    },
    {
     "data": {
      "application/vnd.jupyter.widget-view+json": {
       "model_id": "",
       "version_major": 2,
       "version_minor": 0
      },
      "text/plain": [
       "Dotprops:   0%|          | 0/9 [00:00<?, ?it/s]"
      ]
     },
     "metadata": {},
     "output_type": "display_data"
    },
    {
     "data": {
      "application/vnd.jupyter.widget-view+json": {
       "model_id": "",
       "version_major": 2,
       "version_minor": 0
      },
      "text/plain": [
       "Dividing:   0%|          | 0/8 [00:00<?, ?it/s]"
      ]
     },
     "metadata": {},
     "output_type": "display_data"
    },
    {
     "data": {
      "application/vnd.jupyter.widget-view+json": {
       "model_id": "",
       "version_major": 2,
       "version_minor": 0
      },
      "text/plain": [
       "Dotprops:   0%|          | 0/8 [00:00<?, ?it/s]"
      ]
     },
     "metadata": {},
     "output_type": "display_data"
    },
    {
     "data": {
      "application/vnd.jupyter.widget-view+json": {
       "model_id": "",
       "version_major": 2,
       "version_minor": 0
      },
      "text/plain": [
       "Dividing:   0%|          | 0/7 [00:00<?, ?it/s]"
      ]
     },
     "metadata": {},
     "output_type": "display_data"
    },
    {
     "data": {
      "application/vnd.jupyter.widget-view+json": {
       "model_id": "",
       "version_major": 2,
       "version_minor": 0
      },
      "text/plain": [
       "Dotprops:   0%|          | 0/7 [00:00<?, ?it/s]"
      ]
     },
     "metadata": {},
     "output_type": "display_data"
    },
    {
     "data": {
      "application/vnd.jupyter.widget-view+json": {
       "model_id": "",
       "version_major": 2,
       "version_minor": 0
      },
      "text/plain": [
       "Dividing:   0%|          | 0/5 [00:00<?, ?it/s]"
      ]
     },
     "metadata": {},
     "output_type": "display_data"
    },
    {
     "data": {
      "application/vnd.jupyter.widget-view+json": {
       "model_id": "",
       "version_major": 2,
       "version_minor": 0
      },
      "text/plain": [
       "Dotprops:   0%|          | 0/5 [00:00<?, ?it/s]"
      ]
     },
     "metadata": {},
     "output_type": "display_data"
    },
    {
     "data": {
      "application/vnd.jupyter.widget-view+json": {
       "model_id": "",
       "version_major": 2,
       "version_minor": 0
      },
      "text/plain": [
       "Dividing:   0%|          | 0/17 [00:00<?, ?it/s]"
      ]
     },
     "metadata": {},
     "output_type": "display_data"
    },
    {
     "data": {
      "application/vnd.jupyter.widget-view+json": {
       "model_id": "",
       "version_major": 2,
       "version_minor": 0
      },
      "text/plain": [
       "Dotprops:   0%|          | 0/17 [00:00<?, ?it/s]"
      ]
     },
     "metadata": {},
     "output_type": "display_data"
    },
    {
     "data": {
      "application/vnd.jupyter.widget-view+json": {
       "model_id": "",
       "version_major": 2,
       "version_minor": 0
      },
      "text/plain": [
       "Dividing:   0%|          | 0/15 [00:00<?, ?it/s]"
      ]
     },
     "metadata": {},
     "output_type": "display_data"
    },
    {
     "data": {
      "application/vnd.jupyter.widget-view+json": {
       "model_id": "",
       "version_major": 2,
       "version_minor": 0
      },
      "text/plain": [
       "Dotprops:   0%|          | 0/15 [00:00<?, ?it/s]"
      ]
     },
     "metadata": {},
     "output_type": "display_data"
    },
    {
     "data": {
      "application/vnd.jupyter.widget-view+json": {
       "model_id": "",
       "version_major": 2,
       "version_minor": 0
      },
      "text/plain": [
       "Dividing:   0%|          | 0/15 [00:00<?, ?it/s]"
      ]
     },
     "metadata": {},
     "output_type": "display_data"
    },
    {
     "data": {
      "application/vnd.jupyter.widget-view+json": {
       "model_id": "",
       "version_major": 2,
       "version_minor": 0
      },
      "text/plain": [
       "Dotprops:   0%|          | 0/15 [00:00<?, ?it/s]"
      ]
     },
     "metadata": {},
     "output_type": "display_data"
    },
    {
     "data": {
      "application/vnd.jupyter.widget-view+json": {
       "model_id": "",
       "version_major": 2,
       "version_minor": 0
      },
      "text/plain": [
       "Dividing:   0%|          | 0/11 [00:00<?, ?it/s]"
      ]
     },
     "metadata": {},
     "output_type": "display_data"
    },
    {
     "data": {
      "application/vnd.jupyter.widget-view+json": {
       "model_id": "",
       "version_major": 2,
       "version_minor": 0
      },
      "text/plain": [
       "Dotprops:   0%|          | 0/11 [00:00<?, ?it/s]"
      ]
     },
     "metadata": {},
     "output_type": "display_data"
    },
    {
     "data": {
      "application/vnd.jupyter.widget-view+json": {
       "model_id": "",
       "version_major": 2,
       "version_minor": 0
      },
      "text/plain": [
       "Dividing:   0%|          | 0/7 [00:00<?, ?it/s]"
      ]
     },
     "metadata": {},
     "output_type": "display_data"
    },
    {
     "data": {
      "application/vnd.jupyter.widget-view+json": {
       "model_id": "",
       "version_major": 2,
       "version_minor": 0
      },
      "text/plain": [
       "Dotprops:   0%|          | 0/7 [00:00<?, ?it/s]"
      ]
     },
     "metadata": {},
     "output_type": "display_data"
    },
    {
     "data": {
      "application/vnd.jupyter.widget-view+json": {
       "model_id": "",
       "version_major": 2,
       "version_minor": 0
      },
      "text/plain": [
       "Dividing:   0%|          | 0/9 [00:00<?, ?it/s]"
      ]
     },
     "metadata": {},
     "output_type": "display_data"
    },
    {
     "data": {
      "application/vnd.jupyter.widget-view+json": {
       "model_id": "",
       "version_major": 2,
       "version_minor": 0
      },
      "text/plain": [
       "Dotprops:   0%|          | 0/9 [00:00<?, ?it/s]"
      ]
     },
     "metadata": {},
     "output_type": "display_data"
    },
    {
     "data": {
      "application/vnd.jupyter.widget-view+json": {
       "model_id": "",
       "version_major": 2,
       "version_minor": 0
      },
      "text/plain": [
       "Dividing:   0%|          | 0/9 [00:00<?, ?it/s]"
      ]
     },
     "metadata": {},
     "output_type": "display_data"
    },
    {
     "data": {
      "application/vnd.jupyter.widget-view+json": {
       "model_id": "",
       "version_major": 2,
       "version_minor": 0
      },
      "text/plain": [
       "Dotprops:   0%|          | 0/9 [00:00<?, ?it/s]"
      ]
     },
     "metadata": {},
     "output_type": "display_data"
    },
    {
     "data": {
      "application/vnd.jupyter.widget-view+json": {
       "model_id": "",
       "version_major": 2,
       "version_minor": 0
      },
      "text/plain": [
       "Dividing:   0%|          | 0/7 [00:00<?, ?it/s]"
      ]
     },
     "metadata": {},
     "output_type": "display_data"
    },
    {
     "data": {
      "application/vnd.jupyter.widget-view+json": {
       "model_id": "",
       "version_major": 2,
       "version_minor": 0
      },
      "text/plain": [
       "Dotprops:   0%|          | 0/7 [00:00<?, ?it/s]"
      ]
     },
     "metadata": {},
     "output_type": "display_data"
    }
   ],
   "source": [
    "#Calculate the all-by-all nblast scores within each randonmized set of TPNs that are postsynaptic to a cholinergic LN \n",
    "import pandas as pd\n",
    "import numpy as np\n",
    "df_random = pd.DataFrame()\n",
    "for neurons in random_list:\n",
    "    nl_umr = neurons / 1000\n",
    "    dpsr = navis.make_dotprops (nl_umr, k=5, resample = False)\n",
    "    abar = navis.nblast_allbyall(dpsr, progress = False)\n",
    "    aba_meanr = (abar+abar.T)/2\n",
    "    df_flatr = pd.DataFrame(np.reshape(aba_meanr.to_numpy(), (1,-1)))\n",
    "    dfr = df_flatr.transpose()\n",
    "    df_filteredr = dfr.drop_duplicates()\n",
    "    df_random = pd.concat([df_random, df_filteredr], axis=1)"
   ]
  },
  {
   "cell_type": "code",
   "execution_count": 29,
   "id": "45572b7c",
   "metadata": {},
   "outputs": [],
   "source": [
    "df_random.to_excel('random_seed50_nblast.xlsx')"
   ]
  },
  {
   "cell_type": "code",
   "execution_count": null,
   "id": "cdf39c48",
   "metadata": {},
   "outputs": [],
   "source": []
  }
 ],
 "metadata": {
  "kernelspec": {
   "display_name": "Python 3 (ipykernel)",
   "language": "python",
   "name": "python3"
  },
  "language_info": {
   "codemirror_mode": {
    "name": "ipython",
    "version": 3
   },
   "file_extension": ".py",
   "mimetype": "text/x-python",
   "name": "python",
   "nbconvert_exporter": "python",
   "pygments_lexer": "ipython3",
   "version": "3.11.5"
  }
 },
 "nbformat": 4,
 "nbformat_minor": 5
}
