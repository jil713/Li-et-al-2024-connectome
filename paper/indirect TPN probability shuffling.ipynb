{
 "cells": [
  {
   "cell_type": "code",
   "execution_count": null,
   "id": "b264bc92",
   "metadata": {},
   "outputs": [],
   "source": [
    "import pandas as pd\n",
    "import numpy as np"
   ]
  },
  {
   "cell_type": "code",
   "execution_count": null,
   "id": "8066c577",
   "metadata": {},
   "outputs": [],
   "source": [
    "#Import the raw connectivity excel sheet\n",
    "df = pd.read_excel(r\"D:\\Gordon Lab\\codex SEZ TPN project\\Paper preparation\\paper_final raw data\\connectivity\\ACh interneuron vs 2nd projection\\Ordered 2nd TPN clustering.xlsx\", sheet_name = 'more than 2')"
   ]
  },
  {
   "cell_type": "code",
   "execution_count": null,
   "id": "af12835c",
   "metadata": {},
   "outputs": [],
   "source": [
    "#Clean up the sheet\n",
    "columns_to_drop=['NT','L']\n",
    "df_a = df.drop(columns_to_drop, axis=1)\n",
    "df_final = df_a.set_index('Name')"
   ]
  },
  {
   "cell_type": "code",
   "execution_count": null,
   "id": "d7975208",
   "metadata": {},
   "outputs": [],
   "source": [
    "#Generate 1000 shuffled connectivity sheet\n",
    "import os\n",
    "\n",
    "def randomize_rows(df_final):\n",
    "    return df_final.sample(frac=1).reset_index(drop=True)\n",
    "\n",
    "output_dir = 'randomized_excel_files'\n",
    "os.makedirs(output_dir, exist_ok=True)\n",
    "\n",
    "for i in range(1000):\n",
    "    randomized_df = randomize_rows(df_final)\n",
    "    output_file = os.path.join(output_dir, f'randomized_{i+1}.xlsx')\n",
    "    randomized_df.to_excel(output_file, index=True)"
   ]
  }
 ],
 "metadata": {
  "kernelspec": {
   "display_name": "Python 3 (ipykernel)",
   "language": "python",
   "name": "python3"
  },
  "language_info": {
   "codemirror_mode": {
    "name": "ipython",
    "version": 3
   },
   "file_extension": ".py",
   "mimetype": "text/x-python",
   "name": "python",
   "nbconvert_exporter": "python",
   "pygments_lexer": "ipython3",
   "version": "3.11.5"
  }
 },
 "nbformat": 4,
 "nbformat_minor": 5
}
