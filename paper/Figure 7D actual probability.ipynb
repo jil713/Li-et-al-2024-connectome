{
 "cells": [
  {
   "cell_type": "code",
   "execution_count": null,
   "id": "b264bc92",
   "metadata": {},
   "outputs": [],
   "source": [
    "import pandas as pd\n",
    "import numpy as np"
   ]
  },
  {
   "cell_type": "code",
   "execution_count": null,
   "id": "8066c577",
   "metadata": {},
   "outputs": [],
   "source": [
    "#Import raw connectivity excel sheet\n",
    "df = pd.read_excel(r\"D:\\Gordon Lab\\codex SEZ TPN project\\Paper preparation\\paper_final raw data\\connectivity\\ACh interneuron vs 2nd projection\\Ordered 2nd TPN clustering.xlsx\", sheet_name = 'more than 2')"
   ]
  },
  {
   "cell_type": "code",
   "execution_count": null,
   "id": "af12835c",
   "metadata": {},
   "outputs": [],
   "source": [
    "#Clean up the excel sheet\n",
    "columns_to_drop=['NT','L']\n",
    "df_a = df.drop(columns_to_drop, axis=1)\n",
    "df_final = df_a.set_index('Name')"
   ]
  },
  {
   "cell_type": "code",
   "execution_count": null,
   "id": "74d44dc3",
   "metadata": {},
   "outputs": [],
   "source": [
    "#Assign cluster labels based on the morphological clustering\n",
    "clusterlabel=[1]*33+[2]*53+[3]*33+[4]*36\n",
    "df_final['clusterlabel'] = clusterlabel\n",
    "df_cluster = df_final.set_index('clusterlabel')\n",
    "\n",
    "cluster1=df_cluster.iloc[0:33,:]\n",
    "cluster2=df_cluster.iloc[33:86,:]\n",
    "cluster3=df_cluster.iloc[86:119,:]\n",
    "cluster4=df_cluster.iloc[119:155,:]"
   ]
  },
  {
   "cell_type": "code",
   "execution_count": null,
   "id": "cac45a19",
   "metadata": {},
   "outputs": [],
   "source": [
    "#Generate counts of TPNs in each cluster for each column of cholinergic LN\n",
    "clus1counts_list = []\n",
    "\n",
    "for column1 in cluster1.columns:\n",
    "    num_entries_clus1 = cluster1[column1].count()\n",
    "    clus1counts_list.append(num_entries_clus1)\n",
    "\n",
    "clus2counts_list = []\n",
    "\n",
    "for column2 in cluster2.columns:\n",
    "    num_entries_clus2 = cluster2[column2].count()\n",
    "    clus2counts_list.append(num_entries_clus2)\n",
    "\n",
    "clus3counts_list = []\n",
    "\n",
    "for column3 in cluster3.columns:\n",
    "    num_entries_clus3 = cluster3[column3].count()\n",
    "    clus3counts_list.append(num_entries_clus3)\n",
    "\n",
    "clus4counts_list = []\n",
    "\n",
    "for column4 in cluster4.columns:\n",
    "    num_entries_clus4 = cluster4[column4].count()\n",
    "    clus4counts_list.append(num_entries_clus4)\n",
    "\n",
    "totalcounts_list = []\n",
    "\n",
    "for column_sum in df_cluster.columns:\n",
    "    num_entries_sum = df_cluster[column_sum].count()\n",
    "    totalcounts_list.append(num_entries_sum)"
   ]
  },
  {
   "cell_type": "code",
   "execution_count": null,
   "id": "3c80afe4",
   "metadata": {},
   "outputs": [],
   "source": [
    "#Put together the counts of TPNs belonging to each cluster in a single Dataframe\n",
    "df_clustercounts = pd.DataFrame({\n",
    "    'Cluster1': clus1counts_list,\n",
    "    'Cluster2': clus2counts_list,\n",
    "    'Cluster3': clus3counts_list,\n",
    "    'Cluster4': clus4counts_list\n",
    "})\n",
    "df_totalcounts = pd.DataFrame({\n",
    "    'Total': totalcounts_list})\n",
    "list_totalcounts = df_totalcounts.values.flatten().tolist()"
   ]
  },
  {
   "cell_type": "code",
   "execution_count": null,
   "id": "cb94601d",
   "metadata": {},
   "outputs": [],
   "source": [
    "#Calculate combinations of 2 TPNs belonging to the same cluster for each column of cholinergic LN\n",
    "import math\n",
    "\n",
    "list_comb = []\n",
    "\n",
    "for n in list_totalcounts:\n",
    "    combination  = math.comb(n,2)\n",
    "    list_comb.append(combination)\n",
    "\n",
    "list_cluster1 = []\n",
    "\n",
    "for n in clus1counts_list:\n",
    "    combination = math.comb(n,2)\n",
    "    list_cluster1.append(combination)\n",
    "\n",
    "list_cluster2 = []\n",
    "\n",
    "for n in clus2counts_list:\n",
    "    combination = math.comb(n,2)\n",
    "    list_cluster2.append(combination)\n",
    "    \n",
    "list_cluster3 = []\n",
    "\n",
    "for n in clus3counts_list:\n",
    "    combination = math.comb(n,2)\n",
    "    list_cluster3.append(combination)\n",
    "    \n",
    "list_cluster4 = []\n",
    "\n",
    "for n in clus4counts_list:\n",
    "    combination = math.comb(n,2)\n",
    "    list_cluster4.append(combination)"
   ]
  },
  {
   "cell_type": "code",
   "execution_count": null,
   "id": "770dd5b8",
   "metadata": {},
   "outputs": [],
   "source": [
    "#Calculate the probability by dividing the number of combinations of 2 TPNs belonging to the individual clusters by the total number of combinations of all the TPNs postsynaptic to the cholinergic LN\n",
    "comb_sumeachcluster = [sum(x) for x in zip(list_cluster1, list_cluster2, list_cluster3, list_cluster4)]\n",
    "df_combsumeachcluster = pd.DataFrame({\n",
    "    'sum combination_each cluster': comb_sumeachcluster})\n",
    "probability = df_combsumeachcluster.div(list_comb, axis=0)"
   ]
  },
  {
   "cell_type": "code",
   "execution_count": null,
   "id": "fff189f1",
   "metadata": {},
   "outputs": [],
   "source": [
    "probability.to_excel('actual_probability.xlsx', index=False)"
   ]
  },
  {
   "cell_type": "code",
   "execution_count": null,
   "id": "20ecbdac",
   "metadata": {},
   "outputs": [],
   "source": [
    "#Plot the actual probability distribution\n",
    "import seaborn as sns\n",
    "import matplotlib.pyplot as plt\n",
    "plt.figure(figsize=(5, 5))\n",
    "sns.histplot(probability.values.flatten().tolist(), binwidth = 0.1, kde=True)\n",
    "plt.xlim(0,1)\n",
    "plt.ylim(0,20)"
   ]
  },
  {
   "cell_type": "code",
   "execution_count": null,
   "id": "7fa761c4",
   "metadata": {},
   "outputs": [],
   "source": []
  }
 ],
 "metadata": {
  "kernelspec": {
   "display_name": "Python 3 (ipykernel)",
   "language": "python",
   "name": "python3"
  },
  "language_info": {
   "codemirror_mode": {
    "name": "ipython",
    "version": 3
   },
   "file_extension": ".py",
   "mimetype": "text/x-python",
   "name": "python",
   "nbconvert_exporter": "python",
   "pygments_lexer": "ipython3",
   "version": "3.11.5"
  }
 },
 "nbformat": 4,
 "nbformat_minor": 5
}
