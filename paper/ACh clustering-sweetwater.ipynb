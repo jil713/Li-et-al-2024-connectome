{
 "cells": [
  {
   "cell_type": "code",
   "execution_count": null,
   "id": "4eb8664c",
   "metadata": {},
   "outputs": [],
   "source": [
    "import pandas as pd\n",
    "import numpy as np"
   ]
  },
  {
   "cell_type": "code",
   "execution_count": null,
   "id": "443e524c",
   "metadata": {},
   "outputs": [],
   "source": [
    "#Import the excel sheet with raw connectivity data\n",
    "df = pd.read_excel (r\"D:\\Gordon Lab\\codex SEZ TPN project\\Paper preparation\\paper_final raw data\\connectivity\\ACh clustering\\ACH clustering_final.xlsx\")\n",
    "print (df)"
   ]
  },
  {
   "cell_type": "code",
   "execution_count": null,
   "id": "a5685123",
   "metadata": {},
   "outputs": [],
   "source": [
    "#Clean the excel sheet\n",
    "df=df.set_index('Name')\n",
    "columns_to_drop = ['GRN type','Side','clusterlabel','GRN']\n",
    "df = df.drop(columns_to_drop,axis=1)\n",
    "df_a = df.fillna(0)\n",
    "df_final = df_a.transpose()\n",
    "y = df_final.index.tolist()"
   ]
  },
  {
   "cell_type": "code",
   "execution_count": null,
   "id": "2783d330",
   "metadata": {},
   "outputs": [],
   "source": [
    "#Convert dataframe to arrays for preprocessing\n",
    "data_x = df_final.values"
   ]
  },
  {
   "cell_type": "code",
   "execution_count": null,
   "id": "fada01a1",
   "metadata": {},
   "outputs": [],
   "source": [
    "#Normalize and perform dimensional reduction on a sparse matrix converted from the data array\n",
    "from sklearn.preprocessing import normalize\n",
    "from sklearn.decomposition import TruncatedSVD\n",
    "from scipy.sparse import csr_matrix\n",
    "\n",
    "sparse_matrix = csr_matrix(data_x)\n",
    "sparse_matrix = normalize(sparse_matrix, axis=1, norm='l2')\n",
    "\n",
    "n_components = 10\n",
    "svd = TruncatedSVD(n_components=n_components, random_state=42)\n",
    "reduced_data = svd.fit_transform(sparse_matrix)\n",
    "print(svd.explained_variance_ratio_.sum())"
   ]
  },
  {
   "cell_type": "code",
   "execution_count": null,
   "id": "27d7a959",
   "metadata": {},
   "outputs": [],
   "source": [
    "#Perform hierarchical clustering\n",
    "import matplotlib.pyplot as plt\n",
    "import scipy.cluster.hierarchy as sch\n",
    "from scipy.cluster.hierarchy import dendrogram, linkage\n",
    "Z = linkage(reduced_data, method='average', metric='correlation')\n",
    "plt.figure(figsize=(20, 5))\n",
    "dendrogram_result=dendrogram(Z, leaf_rotation=90, leaf_font_size=10, labels=df_final.index)\n",
    "#plt.savefig('dendrogram_ACH interneuron clustering.pdf',dpi=300)"
   ]
  },
  {
   "cell_type": "code",
   "execution_count": null,
   "id": "9ed50484",
   "metadata": {},
   "outputs": [],
   "source": [
    "#Reorder the excel sheet based on the dendrogram order for plotting\n",
    "dendrogram_order = dendrogram_result['leaves']\n",
    "data_reordered = df_final.iloc[dendrogram_order]\n",
    "data_reordered = data_reordered.fillna(0)\n",
    "#data_reordered.to_excel('Ordered ACh clustering.xlsx')"
   ]
  },
  {
   "cell_type": "code",
   "execution_count": null,
   "id": "2ae14e13",
   "metadata": {},
   "outputs": [],
   "source": [
    "#Perform Silhouette test to determine the number of clusters\n",
    "from sklearn.cluster import AgglomerativeClustering\n",
    "from sklearn.metrics import silhouette_score\n",
    "cluster_range = range(2, 10)\n",
    "silhouette_scores = []\n",
    "\n",
    "for n_clusters in cluster_range:\n",
    "    clustering = AgglomerativeClustering(n_clusters=n_clusters, linkage = 'average', metric='correlation')\n",
    "    cluster_labels = clustering.fit_predict(reduced_data)\n",
    "\n",
    "    silhouette_avg = silhouette_score(reduced_data, cluster_labels)\n",
    "    silhouette_scores.append(silhouette_avg)\n",
    "\n",
    "plt.plot(cluster_range, silhouette_scores, marker='o')\n",
    "plt.xlabel(\"Number of Clusters\")\n",
    "plt.ylabel(\"Silhouette Score\")\n",
    "plt.title(\"Silhouette Score vs. Number of Clusters\")\n",
    "plt.grid(True)\n",
    "#plt.savefig('Silhouette score ACH interneuron clustering.pdf',dpi=300)"
   ]
  },
  {
   "cell_type": "code",
   "execution_count": null,
   "id": "e6664e31",
   "metadata": {},
   "outputs": [],
   "source": [
    "#Add cluster labels to a separate excel sheet and save it\n",
    "from sklearn.cluster import AgglomerativeClustering\n",
    "cluster = AgglomerativeClustering(n_clusters=6, metric='correlation', linkage='average')\n",
    "cluster_labels = cluster.fit_predict(reduced_data)"
   ]
  },
  {
   "cell_type": "code",
   "execution_count": null,
   "id": "d87107f6",
   "metadata": {},
   "outputs": [],
   "source": [
    "#Store the reduced data in a dataframe and cleaned up for a scatter plot\n",
    "df_plot = pd.DataFrame(reduced_data)\n",
    "index_values = df_final.index.tolist()\n",
    "df_plot['Index'] = index_values\n",
    "df_plot = df_plot.set_index('Index')\n",
    "dendrogram_order = dendrogram_result['leaves']\n",
    "reduceddata_reordered = df_plot.iloc[dendrogram_order]"
   ]
  },
  {
   "cell_type": "code",
   "execution_count": null,
   "id": "03c58147",
   "metadata": {},
   "outputs": [],
   "source": [
    "#Plot pairwise distance matrix\n",
    "import seaborn as sns\n",
    "from sklearn.metrics.pairwise import pairwise_distances\n",
    "corr_matrix = pairwise_distances(reduceddata_reordered, metric='correlation')\n",
    "sns.heatmap(corr_matrix, cmap = 'Reds', square=True)\n",
    "#plt.savefig('ACh clustering correlation distance matrix.pdf',dpi=300)"
   ]
  },
  {
   "cell_type": "code",
   "execution_count": null,
   "id": "81f776ad",
   "metadata": {},
   "outputs": [],
   "source": [
    "#Plot UMAP embedded reduced data with cluster labels in color.\n",
    "import matplotlib.pyplot as plt\n",
    "import seaborn as sns\n",
    "import umap\n",
    "import umap.plot\n",
    "reducer = umap.UMAP(random_state=42, n_neighbors=30, min_dist=0.5, metric='correlation')\n",
    "umapd = reducer.fit_transform(reduced_data)\n",
    "plt.figure(figsize=(8, 6))\n",
    "sns.scatterplot(data = umapd, x=umapd[:,0], y=umapd[:,1], hue=cluster_labels, palette='rainbow', s=50)\n",
    "plt.legend(frameon=False)\n",
    "plt.xlabel('UMAP_1')\n",
    "plt.ylabel('UMAP_2')\n",
    "#plt.savefig(\"clustering result_ACh interneurons_without labels.pdf\", format=\"pdf\", dpi=300)"
   ]
  }
 ],
 "metadata": {
  "kernelspec": {
   "display_name": "Python 3 (ipykernel)",
   "language": "python",
   "name": "python3"
  },
  "language_info": {
   "codemirror_mode": {
    "name": "ipython",
    "version": 3
   },
   "file_extension": ".py",
   "mimetype": "text/x-python",
   "name": "python",
   "nbconvert_exporter": "python",
   "pygments_lexer": "ipython3",
   "version": "3.11.5"
  }
 },
 "nbformat": 4,
 "nbformat_minor": 5
}
